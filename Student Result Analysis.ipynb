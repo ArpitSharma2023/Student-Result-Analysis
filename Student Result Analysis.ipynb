{
 "cells": [
  {
   "cell_type": "code",
   "execution_count": 1,
   "id": "1f7809f2",
   "metadata": {},
   "outputs": [],
   "source": [
    "import numpy as np\n",
    "import pandas as pd\n",
    "import matplotlib.pyplot as plt\n",
    "import seaborn as sns"
   ]
  },
  {
   "cell_type": "code",
   "execution_count": 2,
   "id": "59913c54",
   "metadata": {},
   "outputs": [
    {
     "data": {
      "text/html": [
       "<div>\n",
       "<style scoped>\n",
       "    .dataframe tbody tr th:only-of-type {\n",
       "        vertical-align: middle;\n",
       "    }\n",
       "\n",
       "    .dataframe tbody tr th {\n",
       "        vertical-align: top;\n",
       "    }\n",
       "\n",
       "    .dataframe thead th {\n",
       "        text-align: right;\n",
       "    }\n",
       "</style>\n",
       "<table border=\"1\" class=\"dataframe\">\n",
       "  <thead>\n",
       "    <tr style=\"text-align: right;\">\n",
       "      <th></th>\n",
       "      <th>Unnamed: 0</th>\n",
       "      <th>Gender</th>\n",
       "      <th>EthnicGroup</th>\n",
       "      <th>ParentEduc</th>\n",
       "      <th>LunchType</th>\n",
       "      <th>TestPrep</th>\n",
       "      <th>ParentMaritalStatus</th>\n",
       "      <th>PracticeSport</th>\n",
       "      <th>IsFirstChild</th>\n",
       "      <th>NrSiblings</th>\n",
       "      <th>TransportMeans</th>\n",
       "      <th>WklyStudyHours</th>\n",
       "      <th>MathScore</th>\n",
       "      <th>ReadingScore</th>\n",
       "      <th>WritingScore</th>\n",
       "    </tr>\n",
       "  </thead>\n",
       "  <tbody>\n",
       "    <tr>\n",
       "      <th>0</th>\n",
       "      <td>0</td>\n",
       "      <td>female</td>\n",
       "      <td>NaN</td>\n",
       "      <td>bachelor's degree</td>\n",
       "      <td>standard</td>\n",
       "      <td>none</td>\n",
       "      <td>married</td>\n",
       "      <td>regularly</td>\n",
       "      <td>yes</td>\n",
       "      <td>3.0</td>\n",
       "      <td>school_bus</td>\n",
       "      <td>&lt; 5</td>\n",
       "      <td>71</td>\n",
       "      <td>71</td>\n",
       "      <td>74</td>\n",
       "    </tr>\n",
       "    <tr>\n",
       "      <th>1</th>\n",
       "      <td>1</td>\n",
       "      <td>female</td>\n",
       "      <td>group C</td>\n",
       "      <td>some college</td>\n",
       "      <td>standard</td>\n",
       "      <td>NaN</td>\n",
       "      <td>married</td>\n",
       "      <td>sometimes</td>\n",
       "      <td>yes</td>\n",
       "      <td>0.0</td>\n",
       "      <td>NaN</td>\n",
       "      <td>05-Oct</td>\n",
       "      <td>69</td>\n",
       "      <td>90</td>\n",
       "      <td>88</td>\n",
       "    </tr>\n",
       "    <tr>\n",
       "      <th>2</th>\n",
       "      <td>2</td>\n",
       "      <td>female</td>\n",
       "      <td>group B</td>\n",
       "      <td>master's degree</td>\n",
       "      <td>standard</td>\n",
       "      <td>none</td>\n",
       "      <td>single</td>\n",
       "      <td>sometimes</td>\n",
       "      <td>yes</td>\n",
       "      <td>4.0</td>\n",
       "      <td>school_bus</td>\n",
       "      <td>&lt; 5</td>\n",
       "      <td>87</td>\n",
       "      <td>93</td>\n",
       "      <td>91</td>\n",
       "    </tr>\n",
       "    <tr>\n",
       "      <th>3</th>\n",
       "      <td>3</td>\n",
       "      <td>male</td>\n",
       "      <td>group A</td>\n",
       "      <td>associate's degree</td>\n",
       "      <td>free/reduced</td>\n",
       "      <td>none</td>\n",
       "      <td>married</td>\n",
       "      <td>never</td>\n",
       "      <td>no</td>\n",
       "      <td>1.0</td>\n",
       "      <td>NaN</td>\n",
       "      <td>05-Oct</td>\n",
       "      <td>45</td>\n",
       "      <td>56</td>\n",
       "      <td>42</td>\n",
       "    </tr>\n",
       "    <tr>\n",
       "      <th>4</th>\n",
       "      <td>4</td>\n",
       "      <td>male</td>\n",
       "      <td>group C</td>\n",
       "      <td>some college</td>\n",
       "      <td>standard</td>\n",
       "      <td>none</td>\n",
       "      <td>married</td>\n",
       "      <td>sometimes</td>\n",
       "      <td>yes</td>\n",
       "      <td>0.0</td>\n",
       "      <td>school_bus</td>\n",
       "      <td>05-Oct</td>\n",
       "      <td>76</td>\n",
       "      <td>78</td>\n",
       "      <td>75</td>\n",
       "    </tr>\n",
       "  </tbody>\n",
       "</table>\n",
       "</div>"
      ],
      "text/plain": [
       "   Unnamed: 0  Gender EthnicGroup          ParentEduc     LunchType TestPrep  \\\n",
       "0           0  female         NaN   bachelor's degree      standard     none   \n",
       "1           1  female     group C        some college      standard      NaN   \n",
       "2           2  female     group B     master's degree      standard     none   \n",
       "3           3    male     group A  associate's degree  free/reduced     none   \n",
       "4           4    male     group C        some college      standard     none   \n",
       "\n",
       "  ParentMaritalStatus PracticeSport IsFirstChild  NrSiblings TransportMeans  \\\n",
       "0             married     regularly          yes         3.0     school_bus   \n",
       "1             married     sometimes          yes         0.0            NaN   \n",
       "2              single     sometimes          yes         4.0     school_bus   \n",
       "3             married         never           no         1.0            NaN   \n",
       "4             married     sometimes          yes         0.0     school_bus   \n",
       "\n",
       "  WklyStudyHours  MathScore  ReadingScore  WritingScore  \n",
       "0            < 5         71            71            74  \n",
       "1         05-Oct         69            90            88  \n",
       "2            < 5         87            93            91  \n",
       "3         05-Oct         45            56            42  \n",
       "4         05-Oct         76            78            75  "
      ]
     },
     "execution_count": 2,
     "metadata": {},
     "output_type": "execute_result"
    }
   ],
   "source": [
    "df=pd.read_csv('C:\\\\Users\\\\as551\\\\OneDrive\\\\Desktop\\\\examscore.csv')\n",
    "df.head()"
   ]
  },
  {
   "cell_type": "code",
   "execution_count": 3,
   "id": "279bd818",
   "metadata": {},
   "outputs": [
    {
     "data": {
      "text/html": [
       "<div>\n",
       "<style scoped>\n",
       "    .dataframe tbody tr th:only-of-type {\n",
       "        vertical-align: middle;\n",
       "    }\n",
       "\n",
       "    .dataframe tbody tr th {\n",
       "        vertical-align: top;\n",
       "    }\n",
       "\n",
       "    .dataframe thead th {\n",
       "        text-align: right;\n",
       "    }\n",
       "</style>\n",
       "<table border=\"1\" class=\"dataframe\">\n",
       "  <thead>\n",
       "    <tr style=\"text-align: right;\">\n",
       "      <th></th>\n",
       "      <th>Unnamed: 0</th>\n",
       "      <th>NrSiblings</th>\n",
       "      <th>MathScore</th>\n",
       "      <th>ReadingScore</th>\n",
       "      <th>WritingScore</th>\n",
       "    </tr>\n",
       "  </thead>\n",
       "  <tbody>\n",
       "    <tr>\n",
       "      <th>count</th>\n",
       "      <td>30641.000000</td>\n",
       "      <td>29069.000000</td>\n",
       "      <td>30641.000000</td>\n",
       "      <td>30641.000000</td>\n",
       "      <td>30641.000000</td>\n",
       "    </tr>\n",
       "    <tr>\n",
       "      <th>mean</th>\n",
       "      <td>499.556607</td>\n",
       "      <td>2.145894</td>\n",
       "      <td>66.558402</td>\n",
       "      <td>69.377533</td>\n",
       "      <td>68.418622</td>\n",
       "    </tr>\n",
       "    <tr>\n",
       "      <th>std</th>\n",
       "      <td>288.747894</td>\n",
       "      <td>1.458242</td>\n",
       "      <td>15.361616</td>\n",
       "      <td>14.758952</td>\n",
       "      <td>15.443525</td>\n",
       "    </tr>\n",
       "    <tr>\n",
       "      <th>min</th>\n",
       "      <td>0.000000</td>\n",
       "      <td>0.000000</td>\n",
       "      <td>0.000000</td>\n",
       "      <td>10.000000</td>\n",
       "      <td>4.000000</td>\n",
       "    </tr>\n",
       "    <tr>\n",
       "      <th>25%</th>\n",
       "      <td>249.000000</td>\n",
       "      <td>1.000000</td>\n",
       "      <td>56.000000</td>\n",
       "      <td>59.000000</td>\n",
       "      <td>58.000000</td>\n",
       "    </tr>\n",
       "    <tr>\n",
       "      <th>50%</th>\n",
       "      <td>500.000000</td>\n",
       "      <td>2.000000</td>\n",
       "      <td>67.000000</td>\n",
       "      <td>70.000000</td>\n",
       "      <td>69.000000</td>\n",
       "    </tr>\n",
       "    <tr>\n",
       "      <th>75%</th>\n",
       "      <td>750.000000</td>\n",
       "      <td>3.000000</td>\n",
       "      <td>78.000000</td>\n",
       "      <td>80.000000</td>\n",
       "      <td>79.000000</td>\n",
       "    </tr>\n",
       "    <tr>\n",
       "      <th>max</th>\n",
       "      <td>999.000000</td>\n",
       "      <td>7.000000</td>\n",
       "      <td>100.000000</td>\n",
       "      <td>100.000000</td>\n",
       "      <td>100.000000</td>\n",
       "    </tr>\n",
       "  </tbody>\n",
       "</table>\n",
       "</div>"
      ],
      "text/plain": [
       "         Unnamed: 0    NrSiblings     MathScore  ReadingScore  WritingScore\n",
       "count  30641.000000  29069.000000  30641.000000  30641.000000  30641.000000\n",
       "mean     499.556607      2.145894     66.558402     69.377533     68.418622\n",
       "std      288.747894      1.458242     15.361616     14.758952     15.443525\n",
       "min        0.000000      0.000000      0.000000     10.000000      4.000000\n",
       "25%      249.000000      1.000000     56.000000     59.000000     58.000000\n",
       "50%      500.000000      2.000000     67.000000     70.000000     69.000000\n",
       "75%      750.000000      3.000000     78.000000     80.000000     79.000000\n",
       "max      999.000000      7.000000    100.000000    100.000000    100.000000"
      ]
     },
     "execution_count": 3,
     "metadata": {},
     "output_type": "execute_result"
    }
   ],
   "source": [
    "df.describe()"
   ]
  },
  {
   "cell_type": "code",
   "execution_count": 4,
   "id": "5e271dd8",
   "metadata": {},
   "outputs": [
    {
     "name": "stdout",
     "output_type": "stream",
     "text": [
      "<class 'pandas.core.frame.DataFrame'>\n",
      "RangeIndex: 30641 entries, 0 to 30640\n",
      "Data columns (total 15 columns):\n",
      " #   Column               Non-Null Count  Dtype  \n",
      "---  ------               --------------  -----  \n",
      " 0   Unnamed: 0           30641 non-null  int64  \n",
      " 1   Gender               30641 non-null  object \n",
      " 2   EthnicGroup          28801 non-null  object \n",
      " 3   ParentEduc           28796 non-null  object \n",
      " 4   LunchType            30641 non-null  object \n",
      " 5   TestPrep             28811 non-null  object \n",
      " 6   ParentMaritalStatus  29451 non-null  object \n",
      " 7   PracticeSport        30010 non-null  object \n",
      " 8   IsFirstChild         29737 non-null  object \n",
      " 9   NrSiblings           29069 non-null  float64\n",
      " 10  TransportMeans       27507 non-null  object \n",
      " 11  WklyStudyHours       29686 non-null  object \n",
      " 12  MathScore            30641 non-null  int64  \n",
      " 13  ReadingScore         30641 non-null  int64  \n",
      " 14  WritingScore         30641 non-null  int64  \n",
      "dtypes: float64(1), int64(4), object(10)\n",
      "memory usage: 3.5+ MB\n"
     ]
    }
   ],
   "source": [
    "df.info()"
   ]
  },
  {
   "cell_type": "code",
   "execution_count": 5,
   "id": "d4239a2d",
   "metadata": {},
   "outputs": [
    {
     "data": {
      "text/plain": [
       "Unnamed: 0                0\n",
       "Gender                    0\n",
       "EthnicGroup            1840\n",
       "ParentEduc             1845\n",
       "LunchType                 0\n",
       "TestPrep               1830\n",
       "ParentMaritalStatus    1190\n",
       "PracticeSport           631\n",
       "IsFirstChild            904\n",
       "NrSiblings             1572\n",
       "TransportMeans         3134\n",
       "WklyStudyHours          955\n",
       "MathScore                 0\n",
       "ReadingScore              0\n",
       "WritingScore              0\n",
       "dtype: int64"
      ]
     },
     "execution_count": 5,
     "metadata": {},
     "output_type": "execute_result"
    }
   ],
   "source": [
    "df.isnull().sum()"
   ]
  },
  {
   "cell_type": "raw",
   "id": "21e6aca3",
   "metadata": {},
   "source": [
    "#Drop Unnamed Column"
   ]
  },
  {
   "cell_type": "markdown",
   "id": "accb6b7f",
   "metadata": {},
   "source": [
    "# Change weekly stdy hour"
   ]
  },
  {
   "cell_type": "code",
   "execution_count": 6,
   "id": "d6b3387a",
   "metadata": {},
   "outputs": [
    {
     "data": {
      "text/html": [
       "<div>\n",
       "<style scoped>\n",
       "    .dataframe tbody tr th:only-of-type {\n",
       "        vertical-align: middle;\n",
       "    }\n",
       "\n",
       "    .dataframe tbody tr th {\n",
       "        vertical-align: top;\n",
       "    }\n",
       "\n",
       "    .dataframe thead th {\n",
       "        text-align: right;\n",
       "    }\n",
       "</style>\n",
       "<table border=\"1\" class=\"dataframe\">\n",
       "  <thead>\n",
       "    <tr style=\"text-align: right;\">\n",
       "      <th></th>\n",
       "      <th>Unnamed: 0</th>\n",
       "      <th>Gender</th>\n",
       "      <th>EthnicGroup</th>\n",
       "      <th>ParentEduc</th>\n",
       "      <th>LunchType</th>\n",
       "      <th>TestPrep</th>\n",
       "      <th>ParentMaritalStatus</th>\n",
       "      <th>PracticeSport</th>\n",
       "      <th>IsFirstChild</th>\n",
       "      <th>NrSiblings</th>\n",
       "      <th>TransportMeans</th>\n",
       "      <th>WklyStudyHours</th>\n",
       "      <th>MathScore</th>\n",
       "      <th>ReadingScore</th>\n",
       "      <th>WritingScore</th>\n",
       "    </tr>\n",
       "  </thead>\n",
       "  <tbody>\n",
       "    <tr>\n",
       "      <th>0</th>\n",
       "      <td>0</td>\n",
       "      <td>female</td>\n",
       "      <td>NaN</td>\n",
       "      <td>bachelor's degree</td>\n",
       "      <td>standard</td>\n",
       "      <td>none</td>\n",
       "      <td>married</td>\n",
       "      <td>regularly</td>\n",
       "      <td>yes</td>\n",
       "      <td>3.0</td>\n",
       "      <td>school_bus</td>\n",
       "      <td>&lt; 5</td>\n",
       "      <td>71</td>\n",
       "      <td>71</td>\n",
       "      <td>74</td>\n",
       "    </tr>\n",
       "    <tr>\n",
       "      <th>1</th>\n",
       "      <td>1</td>\n",
       "      <td>female</td>\n",
       "      <td>group C</td>\n",
       "      <td>some college</td>\n",
       "      <td>standard</td>\n",
       "      <td>NaN</td>\n",
       "      <td>married</td>\n",
       "      <td>sometimes</td>\n",
       "      <td>yes</td>\n",
       "      <td>0.0</td>\n",
       "      <td>NaN</td>\n",
       "      <td>5-10</td>\n",
       "      <td>69</td>\n",
       "      <td>90</td>\n",
       "      <td>88</td>\n",
       "    </tr>\n",
       "    <tr>\n",
       "      <th>2</th>\n",
       "      <td>2</td>\n",
       "      <td>female</td>\n",
       "      <td>group B</td>\n",
       "      <td>master's degree</td>\n",
       "      <td>standard</td>\n",
       "      <td>none</td>\n",
       "      <td>single</td>\n",
       "      <td>sometimes</td>\n",
       "      <td>yes</td>\n",
       "      <td>4.0</td>\n",
       "      <td>school_bus</td>\n",
       "      <td>&lt; 5</td>\n",
       "      <td>87</td>\n",
       "      <td>93</td>\n",
       "      <td>91</td>\n",
       "    </tr>\n",
       "    <tr>\n",
       "      <th>3</th>\n",
       "      <td>3</td>\n",
       "      <td>male</td>\n",
       "      <td>group A</td>\n",
       "      <td>associate's degree</td>\n",
       "      <td>free/reduced</td>\n",
       "      <td>none</td>\n",
       "      <td>married</td>\n",
       "      <td>never</td>\n",
       "      <td>no</td>\n",
       "      <td>1.0</td>\n",
       "      <td>NaN</td>\n",
       "      <td>5-10</td>\n",
       "      <td>45</td>\n",
       "      <td>56</td>\n",
       "      <td>42</td>\n",
       "    </tr>\n",
       "    <tr>\n",
       "      <th>4</th>\n",
       "      <td>4</td>\n",
       "      <td>male</td>\n",
       "      <td>group C</td>\n",
       "      <td>some college</td>\n",
       "      <td>standard</td>\n",
       "      <td>none</td>\n",
       "      <td>married</td>\n",
       "      <td>sometimes</td>\n",
       "      <td>yes</td>\n",
       "      <td>0.0</td>\n",
       "      <td>school_bus</td>\n",
       "      <td>5-10</td>\n",
       "      <td>76</td>\n",
       "      <td>78</td>\n",
       "      <td>75</td>\n",
       "    </tr>\n",
       "  </tbody>\n",
       "</table>\n",
       "</div>"
      ],
      "text/plain": [
       "   Unnamed: 0  Gender EthnicGroup          ParentEduc     LunchType TestPrep  \\\n",
       "0           0  female         NaN   bachelor's degree      standard     none   \n",
       "1           1  female     group C        some college      standard      NaN   \n",
       "2           2  female     group B     master's degree      standard     none   \n",
       "3           3    male     group A  associate's degree  free/reduced     none   \n",
       "4           4    male     group C        some college      standard     none   \n",
       "\n",
       "  ParentMaritalStatus PracticeSport IsFirstChild  NrSiblings TransportMeans  \\\n",
       "0             married     regularly          yes         3.0     school_bus   \n",
       "1             married     sometimes          yes         0.0            NaN   \n",
       "2              single     sometimes          yes         4.0     school_bus   \n",
       "3             married         never           no         1.0            NaN   \n",
       "4             married     sometimes          yes         0.0     school_bus   \n",
       "\n",
       "  WklyStudyHours  MathScore  ReadingScore  WritingScore  \n",
       "0            < 5         71            71            74  \n",
       "1           5-10         69            90            88  \n",
       "2            < 5         87            93            91  \n",
       "3           5-10         45            56            42  \n",
       "4           5-10         76            78            75  "
      ]
     },
     "execution_count": 6,
     "metadata": {},
     "output_type": "execute_result"
    }
   ],
   "source": [
    "df[\"WklyStudyHours\"]=df[\"WklyStudyHours\"].str.replace(\"05-Oct\",\"5-10\")\n",
    "df.head()"
   ]
  },
  {
   "cell_type": "code",
   "execution_count": 18,
   "id": "b88f05a3",
   "metadata": {},
   "outputs": [
    {
     "name": "stderr",
     "output_type": "stream",
     "text": [
      "C:\\Users\\as551\\anaconda3\\lib\\site-packages\\seaborn\\_oldcore.py:1498: FutureWarning: is_categorical_dtype is deprecated and will be removed in a future version. Use isinstance(dtype, CategoricalDtype) instead\n",
      "  if pd.api.types.is_categorical_dtype(vector):\n",
      "C:\\Users\\as551\\anaconda3\\lib\\site-packages\\seaborn\\_oldcore.py:1498: FutureWarning: is_categorical_dtype is deprecated and will be removed in a future version. Use isinstance(dtype, CategoricalDtype) instead\n",
      "  if pd.api.types.is_categorical_dtype(vector):\n",
      "C:\\Users\\as551\\anaconda3\\lib\\site-packages\\seaborn\\_oldcore.py:1498: FutureWarning: is_categorical_dtype is deprecated and will be removed in a future version. Use isinstance(dtype, CategoricalDtype) instead\n",
      "  if pd.api.types.is_categorical_dtype(vector):\n"
     ]
    },
    {
     "data": {
      "image/png": "[encoded data removed]",
      "text/plain": [
       "<Figure size 500x500 with 1 Axes>"
      ]
     },
     "metadata": {},
     "output_type": "display_data"
    }
   ],
   "source": [
    "plt.figure(figsize=(5,5))\n",
    "ax=sns.countplot(data=df,x='Gender')\n",
    "ax.bar_label(ax.containers[0])\n",
    "plt.title('Gender distribution')\n",
    "plt.show()"
   ]
  },
  {
   "cell_type": "markdown",
   "id": "56284139",
   "metadata": {},
   "source": [
    "# From above Chart we have analysed that the no. of female is more than no. of male"
   ]
  },
  {
   "cell_type": "code",
   "execution_count": 12,
   "id": "af5f1f7b",
   "metadata": {},
   "outputs": [
    {
     "data": {
      "text/html": [
       "<div>\n",
       "<style scoped>\n",
       "    .dataframe tbody tr th:only-of-type {\n",
       "        vertical-align: middle;\n",
       "    }\n",
       "\n",
       "    .dataframe tbody tr th {\n",
       "        vertical-align: top;\n",
       "    }\n",
       "\n",
       "    .dataframe thead th {\n",
       "        text-align: right;\n",
       "    }\n",
       "</style>\n",
       "<table border=\"1\" class=\"dataframe\">\n",
       "  <thead>\n",
       "    <tr style=\"text-align: right;\">\n",
       "      <th></th>\n",
       "      <th>MathScore</th>\n",
       "      <th>ReadingScore</th>\n",
       "      <th>WritingScore</th>\n",
       "    </tr>\n",
       "    <tr>\n",
       "      <th>ParentEduc</th>\n",
       "      <th></th>\n",
       "      <th></th>\n",
       "      <th></th>\n",
       "    </tr>\n",
       "  </thead>\n",
       "  <tbody>\n",
       "    <tr>\n",
       "      <th>associate's degree</th>\n",
       "      <td>68.365586</td>\n",
       "      <td>71.124324</td>\n",
       "      <td>70.299099</td>\n",
       "    </tr>\n",
       "    <tr>\n",
       "      <th>bachelor's degree</th>\n",
       "      <td>70.466627</td>\n",
       "      <td>73.062020</td>\n",
       "      <td>73.331069</td>\n",
       "    </tr>\n",
       "    <tr>\n",
       "      <th>high school</th>\n",
       "      <td>64.435731</td>\n",
       "      <td>67.213997</td>\n",
       "      <td>65.421136</td>\n",
       "    </tr>\n",
       "    <tr>\n",
       "      <th>master's degree</th>\n",
       "      <td>72.336134</td>\n",
       "      <td>75.832921</td>\n",
       "      <td>76.356896</td>\n",
       "    </tr>\n",
       "    <tr>\n",
       "      <th>some college</th>\n",
       "      <td>66.390472</td>\n",
       "      <td>69.179708</td>\n",
       "      <td>68.501432</td>\n",
       "    </tr>\n",
       "    <tr>\n",
       "      <th>some high school</th>\n",
       "      <td>62.584013</td>\n",
       "      <td>65.510785</td>\n",
       "      <td>63.632409</td>\n",
       "    </tr>\n",
       "  </tbody>\n",
       "</table>\n",
       "</div>"
      ],
      "text/plain": [
       "                    MathScore  ReadingScore  WritingScore\n",
       "ParentEduc                                               \n",
       "associate's degree  68.365586     71.124324     70.299099\n",
       "bachelor's degree   70.466627     73.062020     73.331069\n",
       "high school         64.435731     67.213997     65.421136\n",
       "master's degree     72.336134     75.832921     76.356896\n",
       "some college        66.390472     69.179708     68.501432\n",
       "some high school    62.584013     65.510785     63.632409"
      ]
     },
     "execution_count": 12,
     "metadata": {},
     "output_type": "execute_result"
    }
   ],
   "source": [
    "gb=df.groupby('ParentEduc').agg({\"MathScore\":'mean',\"ReadingScore\":'mean',\"WritingScore\":'mean'})\n",
    "gb"
   ]
  },
  {
   "cell_type": "code",
   "execution_count": 19,
   "id": "6d81b65a",
   "metadata": {},
   "outputs": [
    {
     "data": {
      "image/png": "[encoded data removed]",
      "text/plain": [
       "<Figure size 640x480 with 2 Axes>"
      ]
     },
     "metadata": {},
     "output_type": "display_data"
    }
   ],
   "source": [
    "sns.heatmap(gb,annot=True)\n",
    "plt.title('R/ship b/w parents on education')\n",
    "plt.show()"
   ]
  },
  {
   "cell_type": "markdown",
   "id": "ea29dee9",
   "metadata": {},
   "source": [
    "# From above chart parents has great impact on educations score"
   ]
  },
  {
   "cell_type": "code",
   "execution_count": 16,
   "id": "a264cc69",
   "metadata": {},
   "outputs": [
    {
     "data": {
      "text/html": [
       "<div>\n",
       "<style scoped>\n",
       "    .dataframe tbody tr th:only-of-type {\n",
       "        vertical-align: middle;\n",
       "    }\n",
       "\n",
       "    .dataframe tbody tr th {\n",
       "        vertical-align: top;\n",
       "    }\n",
       "\n",
       "    .dataframe thead th {\n",
       "        text-align: right;\n",
       "    }\n",
       "</style>\n",
       "<table border=\"1\" class=\"dataframe\">\n",
       "  <thead>\n",
       "    <tr style=\"text-align: right;\">\n",
       "      <th></th>\n",
       "      <th>MathScore</th>\n",
       "      <th>ReadingScore</th>\n",
       "      <th>WritingScore</th>\n",
       "    </tr>\n",
       "    <tr>\n",
       "      <th>ParentMaritalStatus</th>\n",
       "      <th></th>\n",
       "      <th></th>\n",
       "      <th></th>\n",
       "    </tr>\n",
       "  </thead>\n",
       "  <tbody>\n",
       "    <tr>\n",
       "      <th>divorced</th>\n",
       "      <td>66.691197</td>\n",
       "      <td>69.655011</td>\n",
       "      <td>68.799146</td>\n",
       "    </tr>\n",
       "    <tr>\n",
       "      <th>married</th>\n",
       "      <td>66.657326</td>\n",
       "      <td>69.389575</td>\n",
       "      <td>68.420981</td>\n",
       "    </tr>\n",
       "    <tr>\n",
       "      <th>single</th>\n",
       "      <td>66.165704</td>\n",
       "      <td>69.157250</td>\n",
       "      <td>68.174440</td>\n",
       "    </tr>\n",
       "    <tr>\n",
       "      <th>widowed</th>\n",
       "      <td>67.368866</td>\n",
       "      <td>69.651438</td>\n",
       "      <td>68.563452</td>\n",
       "    </tr>\n",
       "  </tbody>\n",
       "</table>\n",
       "</div>"
      ],
      "text/plain": [
       "                     MathScore  ReadingScore  WritingScore\n",
       "ParentMaritalStatus                                       \n",
       "divorced             66.691197     69.655011     68.799146\n",
       "married              66.657326     69.389575     68.420981\n",
       "single               66.165704     69.157250     68.174440\n",
       "widowed              67.368866     69.651438     68.563452"
      ]
     },
     "execution_count": 16,
     "metadata": {},
     "output_type": "execute_result"
    }
   ],
   "source": [
    "gb1=df.groupby('ParentMaritalStatus').agg({\"MathScore\":'mean',\"ReadingScore\":'mean',\"WritingScore\":'mean'})\n",
    "gb1"
   ]
  },
  {
   "cell_type": "code",
   "execution_count": 20,
   "id": "30134c97",
   "metadata": {},
   "outputs": [
    {
     "data": {
      "image/png": "[encoded data removed]",
      "text/plain": [
       "<Figure size 640x480 with 2 Axes>"
      ]
     },
     "metadata": {},
     "output_type": "display_data"
    }
   ],
   "source": [
    "sns.heatmap(gb1,annot=True)\n",
    "plt.title('R/ship b/w parents marital on education')\n",
    "plt.show()"
   ]
  },
  {
   "cell_type": "markdown",
   "id": "7ad92245",
   "metadata": {},
   "source": [
    "# From above chart marital status has no great impact on scores"
   ]
  },
  {
   "cell_type": "code",
   "execution_count": 21,
   "id": "2cafe272",
   "metadata": {},
   "outputs": [
    {
     "name": "stderr",
     "output_type": "stream",
     "text": [
      "C:\\Users\\as551\\anaconda3\\lib\\site-packages\\seaborn\\_oldcore.py:1498: FutureWarning: is_categorical_dtype is deprecated and will be removed in a future version. Use isinstance(dtype, CategoricalDtype) instead\n",
      "  if pd.api.types.is_categorical_dtype(vector):\n"
     ]
    },
    {
     "data": {
      "text/plain": [
       "<Axes: xlabel='MathScore'>"
      ]
     },
     "execution_count": 21,
     "metadata": {},
     "output_type": "execute_result"
    },
    {
     "data": {
      "image/png": "[encoded data removed]",
      "text/plain": [
       "<Figure size 640x480 with 1 Axes>"
      ]
     },
     "metadata": {},
     "output_type": "display_data"
    }
   ],
   "source": [
    "sns.boxplot(data=df,x='MathScore')"
   ]
  },
  {
   "cell_type": "code",
   "execution_count": 22,
   "id": "62c9aac8",
   "metadata": {},
   "outputs": [
    {
     "name": "stderr",
     "output_type": "stream",
     "text": [
      "C:\\Users\\as551\\anaconda3\\lib\\site-packages\\seaborn\\_oldcore.py:1498: FutureWarning: is_categorical_dtype is deprecated and will be removed in a future version. Use isinstance(dtype, CategoricalDtype) instead\n",
      "  if pd.api.types.is_categorical_dtype(vector):\n"
     ]
    },
    {
     "data": {
      "text/plain": [
       "<Axes: xlabel='WritingScore'>"
      ]
     },
     "execution_count": 22,
     "metadata": {},
     "output_type": "execute_result"
    },
    {
     "data": {
      "image/png": "[encoded data removed]",
      "text/plain": [
       "<Figure size 640x480 with 1 Axes>"
      ]
     },
     "metadata": {},
     "output_type": "display_data"
    }
   ],
   "source": [
    "sns.boxplot(data=df,x='WritingScore')"
   ]
  },
  {
   "cell_type": "code",
   "execution_count": 23,
   "id": "500ea07e",
   "metadata": {},
   "outputs": [
    {
     "name": "stderr",
     "output_type": "stream",
     "text": [
      "C:\\Users\\as551\\anaconda3\\lib\\site-packages\\seaborn\\_oldcore.py:1498: FutureWarning: is_categorical_dtype is deprecated and will be removed in a future version. Use isinstance(dtype, CategoricalDtype) instead\n",
      "  if pd.api.types.is_categorical_dtype(vector):\n"
     ]
    },
    {
     "data": {
      "text/plain": [
       "<Axes: xlabel='ReadingScore'>"
      ]
     },
     "execution_count": 23,
     "metadata": {},
     "output_type": "execute_result"
    },
    {
     "data": {
      "image/png": "[encoded data removed]",
      "text/plain": [
       "<Figure size 640x480 with 1 Axes>"
      ]
     },
     "metadata": {},
     "output_type": "display_data"
    }
   ],
   "source": [
    "sns.boxplot(data=df,x='ReadingScore')"
   ]
  },
  {
   "cell_type": "code",
   "execution_count": 26,
   "id": "c5c6ff86",
   "metadata": {},
   "outputs": [
    {
     "data": {
      "text/plain": [
       "array([nan, 'group C', 'group B', 'group A', 'group D', 'group E'],\n",
       "      dtype=object)"
      ]
     },
     "execution_count": 26,
     "metadata": {},
     "output_type": "execute_result"
    }
   ],
   "source": [
    "df['EthnicGroup'].unique()"
   ]
  },
  {
   "cell_type": "markdown",
   "id": "e851aeec",
   "metadata": {},
   "source": [
    "# percentage  Distribution of Ethnic Groups"
   ]
  },
  {
   "cell_type": "code",
   "execution_count": 29,
   "id": "76edae9d",
   "metadata": {},
   "outputs": [
    {
     "data": {
      "text/plain": [
       "Unnamed: 0             2219\n",
       "Gender                 2219\n",
       "EthnicGroup            2219\n",
       "ParentEduc             2078\n",
       "LunchType              2219\n",
       "TestPrep               2081\n",
       "ParentMaritalStatus    2121\n",
       "PracticeSport          2167\n",
       "IsFirstChild           2168\n",
       "NrSiblings             2096\n",
       "TransportMeans         1999\n",
       "WklyStudyHours         2146\n",
       "MathScore              2219\n",
       "ReadingScore           2219\n",
       "WritingScore           2219\n",
       "dtype: int64"
      ]
     },
     "execution_count": 29,
     "metadata": {},
     "output_type": "execute_result"
    }
   ],
   "source": [
    "groupA=df.loc[(df['EthnicGroup']=='group A')].count()\n",
    "groupA"
   ]
  },
  {
   "cell_type": "code",
   "execution_count": 30,
   "id": "aa0c4284",
   "metadata": {},
   "outputs": [
    {
     "data": {
      "text/plain": [
       "([<matplotlib.patches.Wedge at 0x15116b0c0a0>,\n",
       "  <matplotlib.patches.Wedge at 0x15116af3f70>,\n",
       "  <matplotlib.patches.Wedge at 0x15116b0cc70>,\n",
       "  <matplotlib.patches.Wedge at 0x15116b0d300>,\n",
       "  <matplotlib.patches.Wedge at 0x15116b0d990>],\n",
       " [Text(1.0679343162184989, 0.26365943230411354, 'group A'),\n",
       "  Text(0.479656756487504, 0.989913832591447, 'group B'),\n",
       "  Text(-1.0208489310562472, 0.40971631644507106, 'group C'),\n",
       "  Text(-0.14172979830625182, -1.09083118046381, 'group D'),\n",
       "  Text(0.9948566425203025, -0.4693189329584214, 'group E')],\n",
       " [Text(0.582509627028272, 0.14381423580224373, '7.70%'),\n",
       "  Text(0.26163095808409303, 0.5399529995953347, '20.23%'),\n",
       "  Text(-0.5568266896670439, 0.2234816271518569, '31.98%'),\n",
       "  Text(-0.07730716271250097, -0.5949988257075327, '26.05%'),\n",
       "  Text(0.5426490777383467, -0.255992145250048, '14.03%')])"
      ]
     },
     "execution_count": 30,
     "metadata": {},
     "output_type": "execute_result"
    },
    {
     "data": {
      "image/png": "[encoded data removed]",
      "text/plain": [
       "<Figure size 640x480 with 1 Axes>"
      ]
     },
     "metadata": {},
     "output_type": "display_data"
    }
   ],
   "source": [
    "groupA=df.loc[(df['EthnicGroup']=='group A')].count()\n",
    "groupB=df.loc[(df['EthnicGroup']=='group B')].count()\n",
    "groupC=df.loc[(df['EthnicGroup']=='group C')].count()\n",
    "groupD=df.loc[(df['EthnicGroup']=='group D')].count()\n",
    "groupE=df.loc[(df['EthnicGroup']=='group E')].count()\n",
    "l=['group A','group B','group C','group D','group E']\n",
    "mlist=[groupA[\"EthnicGroup\"],groupB[\"EthnicGroup\"],groupC[\"EthnicGroup\"],groupD[\"EthnicGroup\"],groupE[\"EthnicGroup\"]]\n",
    "plt.pie(mlist,labels=l,autopct='%1.2f%%')"
   ]
  },
  {
   "cell_type": "code",
   "execution_count": 32,
   "id": "c0f5d3bf",
   "metadata": {},
   "outputs": [
    {
     "name": "stderr",
     "output_type": "stream",
     "text": [
      "C:\\Users\\as551\\anaconda3\\lib\\site-packages\\seaborn\\_oldcore.py:1498: FutureWarning: is_categorical_dtype is deprecated and will be removed in a future version. Use isinstance(dtype, CategoricalDtype) instead\n",
      "  if pd.api.types.is_categorical_dtype(vector):\n",
      "C:\\Users\\as551\\anaconda3\\lib\\site-packages\\seaborn\\_oldcore.py:1498: FutureWarning: is_categorical_dtype is deprecated and will be removed in a future version. Use isinstance(dtype, CategoricalDtype) instead\n",
      "  if pd.api.types.is_categorical_dtype(vector):\n",
      "C:\\Users\\as551\\anaconda3\\lib\\site-packages\\seaborn\\_oldcore.py:1498: FutureWarning: is_categorical_dtype is deprecated and will be removed in a future version. Use isinstance(dtype, CategoricalDtype) instead\n",
      "  if pd.api.types.is_categorical_dtype(vector):\n"
     ]
    },
    {
     "data": {
      "text/plain": [
       "[Text(0, 0, '9212'),\n",
       " Text(0, 0, '5826'),\n",
       " Text(0, 0, '2219'),\n",
       " Text(0, 0, '7503'),\n",
       " Text(0, 0, '4041')]"
      ]
     },
     "execution_count": 32,
     "metadata": {},
     "output_type": "execute_result"
    },
    {
     "data": {
      "image/png": "[encoded data removed]",
      "text/plain": [
       "<Figure size 640x480 with 1 Axes>"
      ]
     },
     "metadata": {},
     "output_type": "display_data"
    }
   ],
   "source": [
    "ax=sns.countplot(data=df,x='EthnicGroup')\n",
    "ax.bar_label(ax.containers[0])"
   ]
  },
  {
   "cell_type": "code",
   "execution_count": null,
   "id": "e52d8f53",
   "metadata": {},
   "outputs": [],
   "source": []
  },
  {
   "cell_type": "code",
   "execution_count": null,
   "id": "4b912af4",
   "metadata": {},
   "outputs": [],
   "source": []
  },
  {
   "cell_type": "code",
   "execution_count": null,
   "id": "e684d3d6",
   "metadata": {},
   "outputs": [],
   "source": []
  },
  {
   "cell_type": "code",
   "execution_count": null,
   "id": "181d21ac",
   "metadata": {},
   "outputs": [],
   "source": []
  },
  {
   "cell_type": "code",
   "execution_count": null,
   "id": "5d8e639e",
   "metadata": {},
   "outputs": [],
   "source": []
  },
  {
   "cell_type": "code",
   "execution_count": null,
   "id": "29bd004d",
   "metadata": {},
   "outputs": [],
   "source": []
  },
  {
   "cell_type": "code",
   "execution_count": null,
   "id": "b15a8850",
   "metadata": {},
   "outputs": [],
   "source": []
  },
  {
   "cell_type": "code",
   "execution_count": null,
   "id": "e99052a6",
   "metadata": {},
   "outputs": [],
   "source": []
  },
  {
   "cell_type": "code",
   "execution_count": null,
   "id": "7d31a08d",
   "metadata": {},
   "outputs": [],
   "source": []
  },
  {
   "cell_type": "code",
   "execution_count": null,
   "id": "dd3d49fb",
   "metadata": {},
   "outputs": [],
   "source": []
  },
  {
   "cell_type": "code",
   "execution_count": null,
   "id": "03f88151",
   "metadata": {},
   "outputs": [],
   "source": []
  },
  {
   "cell_type": "code",
   "execution_count": null,
   "id": "00c74999",
   "metadata": {},
   "outputs": [],
   "source": []
  },
  {
   "cell_type": "code",
   "execution_count": null,
   "id": "30364320",
   "metadata": {},
   "outputs": [],
   "source": []
  },
  {
   "cell_type": "code",
   "execution_count": null,
   "id": "2ddde485",
   "metadata": {},
   "outputs": [],
   "source": []
  },
  {
   "cell_type": "code",
   "execution_count": null,
   "id": "579f3607",
   "metadata": {},
   "outputs": [],
   "source": []
  },
  {
   "cell_type": "code",
   "execution_count": null,
   "id": "4734b455",
   "metadata": {},
   "outputs": [],
   "source": []
  },
  {
   "cell_type": "code",
   "execution_count": null,
   "id": "7ef654b5",
   "metadata": {},
   "outputs": [],
   "source": []
  }
 ],
 "metadata": {
  "kernelspec": {
   "display_name": "Python 3 (ipykernel)",
   "language": "python",
   "name": "python3"
  },
  "language_info": {
   "codemirror_mode": {
    "name": "ipython",
    "version": 3
   },
   "file_extension": ".py",
   "mimetype": "text/x-python",
   "name": "python",
   "nbconvert_exporter": "python",
   "pygments_lexer": "ipython3",
   "version": "3.10.9"
  }
 },
 "nbformat": 4,
 "nbformat_minor": 5
}
